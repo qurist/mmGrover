{
 "cells": [
  {
   "cell_type": "code",
   "execution_count": 1,
   "metadata": {
    "collapsed": true
   },
   "outputs": [],
   "source": [
    "import numpy as np\n",
    "from numpy.linalg import matrix_power, inv\n",
    "from scipy.linalg import expm\n",
    "from scipy.linalg import eig\n",
    "from matplotlib.pyplot import *\n",
    "import math\n",
    "import random as rm\n",
    "from numpy import sqrt,pi,e,cos,sin,tan\n",
    "from scipy.optimize import minimize\n",
    "from scipy import misc as ms\n",
    "import time"
   ]
  },
  {
   "cell_type": "code",
   "execution_count": 3,
   "metadata": {
    "collapsed": true
   },
   "outputs": [],
   "source": [
    "def choose(n,r):\n",
    "    f = math.factorial  \n",
    "    return f(n) / f(r) / f(n-r)\n",
    "\n",
    "def squoose(n,r):\n",
    "    m = min(r, n-r)\n",
    "    fm = math.factorial(m)\n",
    "    prod = 1.\n",
    "    for i in range(m):\n",
    "        prod*= (n-i)/(float(m-i))\n",
    "    return sqrt(prod)\n",
    "\n",
    "#def comb(n,w,v,k):\n",
    "#    return choose(w,k)*choose(n-w,v-k)*sqrt(1.*choose(n,w)/(choose(n,v+w-2*k)))\n",
    "\n",
    "def trig(n,v,b):\n",
    "    return (cos(b)**(n-v))*(1.0j*sin(b))**v\n",
    "#def diffuse(n, fw, b):  # \"applies the diffusion operator on a hamming symmetric state\n",
    "#    out = (n+1)*[0.0+0.0j]\n",
    "#    for w in range(n+1):\n",
    "#        for v in range(n+1):\n",
    "#            for k in range(max(0,v+w-n),min(v,w)+1):\n",
    "#                out[w+v-2*k] += fw[w]*comb(n,w,v,k)*trig(n,v,b)\n",
    "#    out = map(lambda x: x*e**(-1.0j*b*n),out)\n",
    "#    return out\n",
    "def symH0(n):\n",
    "    H0 = n*np.identity(n+1)\n",
    "    for i in range(n):\n",
    "        H0[i,i+1] = -np.sqrt((i+1)*(n-i))\n",
    "        H0[i+1,i] = -np.sqrt((i+1)*(n-i))\n",
    "    return H0\n",
    "\n",
    "def diffuse(n,fw,b):\n",
    "    H0 = symH0(n)\n",
    "    return np.dot(expm(-1.0j*b*H0),fw)\n",
    "def diff0(n,fw,b):  # only compute the diffused amplitude at w=0. it's faster\n",
    "    out=0\n",
    "    for w in range(n+1):\n",
    "        out+= fw[w]*trig(n,w,b)/squoose(n,w)\n",
    "    return e**(-1.0j*b*n)*out\n",
    "def merit(n,fw):\n",
    "    a=2./2**(n)*sum(map(lambda w: fw[w]*squoose(n,w),range(n+1)))\n",
    "    return 1.-np.abs(1.-a)**2                                     \n",
    "def diffopt(n,f0,err,T):\n",
    "    angles=[]\n",
    "    anglesum=0\n",
    "    f=f0\n",
    "    for i in range(T):\n",
    "        plot(f)\n",
    "        p0=0.\n",
    "        angle=0.\n",
    "        while(p0<(i+1)*err):\n",
    "            angle+=0.01\n",
    "            b = anglesum+angle\n",
    "            p0=np.real(1-diff0(n,f,angle))\n",
    "        angles.append(angle)\n",
    "        anglesum+=angle\n",
    "        f=diffuse(n,f,angle)\n",
    "        f[0] = 1-f[0]\n",
    "        print(merit(n,f))\n",
    "    show()\n",
    "    return angles\n",
    "def state0(n):\n",
    "    tN = 1./2.**(n/2.)\n",
    "    p   = np.zeros(n+1) # initialized probability vector in reduced basis\n",
    "    seed = 1.\n",
    "    for i in range(n+1):\n",
    "        p[i] = seed # recursively produce N-choose-j (see next line)\n",
    "        seed *= np.sqrt((n-i)/(i+1.))\n",
    "    return tN*p # duplicates probabilities for z0=0 and 1\n",
    "def costmatrix(n,m,dists,gamma):\n",
    "    mat = np.diag([1.+0.j]*m*(n+1))\n",
    "    wg = 1-e**(1.0j*gamma)\n",
    "    print(wg)\n",
    "    for i in range(m):\n",
    "        for j in range(m):\n",
    "            mat[i*(n+1),j*(n+1)+dists[i,j]] -= wg\n",
    "    return mat\n",
    "def mixmatrix(n,m,beta):\n",
    "    return np.kron(np.identity(m),expm(-1.0j*beta*symH0(n)))\n",
    "def success(n, dists, i, psi):\n",
    "    amp = 0\n",
    "    for j in range(m):\n",
    "        amp+= psi[j*(n+1)+dists[i,j]]\n",
    "    return abs(amp)**2/2**n"
   ]
  },
  {
   "cell_type": "code",
   "execution_count": 4,
   "metadata": {},
   "outputs": [
    {
     "name": "stdout",
     "output_type": "stream",
     "text": [
      "(2-1.2246467991473532e-16j)\n"
     ]
    }
   ],
   "source": [
    "n=5\n",
    "m=3\n",
    "nor = np.kron(np.identity(m),np.diag([1./squoose(n,r) for r in range(n+1)]))\n",
    "nori = np.kron(np.identity(m),np.diag([squoose(n,r) for r in range(n+1)]))\n",
    "distances = np.array([[0,3,3],[3,0,2],[3,2,0]])\n",
    "Bnor = nor@mixmatrix(n,m,np.pi/n)@nori\n",
    "Cnor = costmatrix(n,m,distances,np.pi)\n",
    "psi0 = np.array([1]*(n+1) + [0]*(m-1)*(n+1))\n",
    "#psi1 = np.array([0]*(n+1)+[1]*(n+1) + [0]*(m-2)*(n+1))"
   ]
  },
  {
   "cell_type": "code",
   "execution_count": 263,
   "metadata": {
    "collapsed": true
   },
   "outputs": [],
   "source": [
    "bc = Bnor@Cnor\n",
    "def evolve(k,psi):\n",
    "    return matrix_power(bc,k)@psi"
   ]
  },
  {
   "cell_type": "code",
   "execution_count": 264,
   "metadata": {
    "collapsed": true,
    "scrolled": true
   },
   "outputs": [],
   "source": [
    "p3 = [sum([success(n,distances,i,evolve(k,psi0)) for i in range(1)]) for k in range(500)]"
   ]
  },
  {
   "cell_type": "code",
   "execution_count": 261,
   "metadata": {
    "collapsed": true
   },
   "outputs": [],
   "source": [
    "p1= [success(n,distances,0,evolve(k,psi0)) for k in range(500)]"
   ]
  },
  {
   "cell_type": "code",
   "execution_count": 265,
   "metadata": {},
   "outputs": [
    {
     "data": {
      "image/png": "[encoded data removed]",
      "text/plain": [
       "<Figure size 432x288 with 1 Axes>"
      ]
     },
     "metadata": {
      "needs_background": "light"
     },
     "output_type": "display_data"
    }
   ],
   "source": [
    "plot(p1); plot(p3); show()"
   ]
  },
  {
   "cell_type": "code",
   "execution_count": 31,
   "metadata": {},
   "outputs": [
    {
     "name": "stdout",
     "output_type": "stream",
     "text": [
      "(2-1.2246467991473532e-16j)\n"
     ]
    }
   ],
   "source": [
    "n=10\n",
    "m=3\n",
    "nor = np.kron(np.identity(m),np.diag([1./squoose(n,r) for r in range(n+1)]))\n",
    "nori = np.kron(np.identity(m),np.diag([squoose(n,r) for r in range(n+1)]))\n",
    "distances = np.array([[0,7,4],[7,0,3],[4,3,0]])\n",
    "Bnor = nor@mixmatrix(n,m,np.pi/n)@nori\n",
    "Cnor = costmatrix(n,m,distances,np.pi)\n",
    "psi0 = 1/m*2**(-n/2)*np.array([1]*(n+1)*m)# + [0]*(m-1)*(n+1))\n",
    "freq = np.sqrt(m/(1<<n))\n",
    "coeffs = []\n",
    "for f in np.arange(0.0,1,0.001):\n",
    "    fouri = np.identity(m*(n+1)) - e**(-2*pi*1.0j*(f-0.0001j))*Bnor*Cnor\n",
    "    inverted = inv(fouri)@psi0\n",
    "    coeffs.append(abs(inverted[11]))"
   ]
  },
  {
   "cell_type": "code",
   "execution_count": 88,
   "metadata": {},
   "outputs": [
    {
     "data": {
      "image/png": "[encoded data removed]",
      "text/plain": [
       "<Figure size 432x288 with 1 Axes>"
      ]
     },
     "metadata": {
      "needs_background": "light"
     },
     "output_type": "display_data"
    }
   ],
   "source": [
    "plot(coeffs); show()"
   ]
  },
  {
   "cell_type": "code",
   "execution_count": 32,
   "metadata": {},
   "outputs": [],
   "source": [
    "BC = nori @ Bnor @ Cnor @ nor\n",
    "val, vec = eig(BC)"
   ]
  },
  {
   "cell_type": "code",
   "execution_count": 34,
   "metadata": {},
   "outputs": [
    {
     "data": {
      "text/plain": [
       "[0.38500435020597984,\n",
       " 0.3594791605762982,\n",
       " 0.3510961913446332,\n",
       " -0.38500435020598095,\n",
       " -0.3594791605762977,\n",
       " -0.3510961913446345,\n",
       " 1.070209717102396,\n",
       " 1.1036889652471418,\n",
       " 1.0922705248419766,\n",
       " -1.0702097171023968,\n",
       " -1.1036889652471429,\n",
       " -1.0922705248419766,\n",
       " -1.3359309313098906,\n",
       " -1.3493302974400911,\n",
       " -1.357040985621407,\n",
       " 1.335930931309891,\n",
       " 1.349330297440092,\n",
       " 1.3570409856214078,\n",
       " -0.6418229067647676,\n",
       " -0.6873315555865386,\n",
       " -0.6787659472636353,\n",
       " 0.6418229067647685,\n",
       " 0.687331555586539,\n",
       " 0.6787659472636359,\n",
       " -0.10065233760918002,\n",
       " -0.07565988540853077,\n",
       " 0.10065233760918017,\n",
       " 0.07565988540853101,\n",
       " -2.4576121667964396e-09,\n",
       " 2.457611785198753e-09,\n",
       " 4.639613803504973e-16,\n",
       " 2.610758831345092e-16,\n",
       " 1.413799632921098e-16]"
      ]
     },
     "execution_count": 34,
     "metadata": {},
     "output_type": "execute_result"
    }
   ],
   "source": [
    "list(map(np.arctan, np.imag(val)/np.real(val)))"
   ]
  },
  {
   "cell_type": "code",
   "execution_count": null,
   "metadata": {
    "collapsed": true
   },
   "outputs": [],
   "source": []
  }
 ],
 "metadata": {
  "kernelspec": {
   "display_name": "Python 3",
   "language": "python",
   "name": "python3"
  },
  "language_info": {
   "codemirror_mode": {
    "name": "ipython",
    "version": 3
   },
   "file_extension": ".py",
   "mimetype": "text/x-python",
   "name": "python",
   "nbconvert_exporter": "python",
   "pygments_lexer": "ipython3",
   "version": "3.6.7"
  }
 },
 "nbformat": 4,
 "nbformat_minor": 2
}
