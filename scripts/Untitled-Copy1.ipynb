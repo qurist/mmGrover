{
 "cells": [
  {
   "cell_type": "code",
   "execution_count": 37,
   "metadata": {},
   "outputs": [],
   "source": [
    "from random import *\n",
    "def randbitstr(n): return [randint(0,1) for b in range(1,n+1)]\n",
    "def distinct(a, b, n): return bool(sum([a[i]^b[i] for i in range(n)]))\n",
    "def isnew(a,strlist): return reduce(lambda x,y: x and y, [distinct(a,i,len(a)) for i in strlist])"
   ]
  },
  {
   "cell_type": "code",
   "execution_count": 18,
   "metadata": {},
   "outputs": [],
   "source": [
    "a = randbitstr(20)\n",
    "b = randbitstr(20)"
   ]
  },
  {
   "cell_type": "code",
   "execution_count": 47,
   "metadata": {},
   "outputs": [],
   "source": [
    "n=10\n",
    "m=3\n",
    "count=0\n",
    "strings = []\n",
    "strings.append(randbitstr(n))\n",
    "while count!=m:\n",
    "    a = randbitstr(n)\n",
    "    if isnew(a,strings): \n",
    "        strings.append(a)\n",
    "        count+=1"
   ]
  }
 ],
 "metadata": {
  "kernelspec": {
   "display_name": "Python 2",
   "language": "python",
   "name": "python2"
  },
  "language_info": {
   "codemirror_mode": {
    "name": "ipython",
    "version": 2
   },
   "file_extension": ".py",
   "mimetype": "text/x-python",
   "name": "python",
   "nbconvert_exporter": "python",
   "pygments_lexer": "ipython2",
   "version": "2.7.15rc1"
  }
 },
 "nbformat": 4,
 "nbformat_minor": 2
}
